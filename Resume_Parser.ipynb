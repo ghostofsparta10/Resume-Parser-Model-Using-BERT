{
  "nbformat": 4,
  "nbformat_minor": 0,
  "metadata": {
    "colab": {
      "provenance": []
    },
    "kernelspec": {
      "name": "python3",
      "display_name": "Python 3"
    },
    "language_info": {
      "name": "python"
    }
  },
  "cells": [
    {
      "cell_type": "code",
      "execution_count": null,
      "metadata": {
        "colab": {
          "base_uri": "https://localhost:8080/"
        },
        "id": "l8GZjuTXSh4j",
        "outputId": "3249d417-57b0-46fd-e185-c706422b358b"
      },
      "outputs": [
        {
          "output_type": "stream",
          "name": "stdout",
          "text": [
            "Enter path to resume(supported: .pdf, .jpg, .txt): /content/Resume-Abhishek Ghaisas-1 (1).pdf\n",
            "Enter job description: High School diploma required.  Current student pursuing a bachelor's degree in Computer Science, Data Engineering, Data Science, Informatics or related field. Previous internship is a plus.  Ability to validate data received from various web services and other integration technologies (REST, XML/JSON, SOAP, ETL).  Knowledge of relational databases, SQL queries, relational and dimensional data modeling and data warehouses.  Strong attention to detail.\n",
            "Compatibility Score: 94.81%\n"
          ]
        }
      ],
      "source": [
        "import re\n",
        "from sklearn.feature_extraction.text import TfidfVectorizer\n",
        "from sklearn.metrics.pairwise import cosine_similarity\n",
        "from PIL import Image\n",
        "import textract\n",
        "import pytesseract\n",
        "\n",
        "\n",
        "def preprocess_text(text):\n",
        "    text = text.lower()\n",
        "    text = re.sub(r'\\s+', ' ', text)\n",
        "    text = re.sub(r'[^\\w\\s]', '', text)\n",
        "    return text\n",
        "\n",
        "def extract_text(file_path):\n",
        "    try:\n",
        "        if file_path.endswith(('.jpg', '.jpeg', '.png')):\n",
        "            text = pytesseract.image_to_string(Image.open(file_path))\n",
        "        else:\n",
        "            text = textract.process(file_path).decode('utf-8')\n",
        "        return text\n",
        "    except Exception as e:\n",
        "        print(f\"Error reading file: {e}\")\n",
        "        return None\n",
        "\n",
        "def compatibility(resume_text, job_desc):\n",
        "    clean = preprocess_text(resume_text)\n",
        "    job_desc_clean = preprocess_text(job_desc)\n",
        "\n",
        "    vectorizer = TfidfVectorizer(\n",
        "    ngram_range=(1, 2),\n",
        "    max_features=5000,\n",
        "    min_df=2,\n",
        "    stop_words='english'\n",
        ")\n",
        "    matrix = vectorizer.fit_transform([clean, job_desc_clean])\n",
        "\n",
        "    score = cosine_similarity(matrix[0:1], matrix[1:2])\n",
        "    return round(score[0][0] * 100, 2)\n",
        "\n",
        "if __name__ == \"__main__\":\n",
        "    resume_file = input(\"Enter path to resume(supported: .pdf, .jpg, .txt): \")\n",
        "    job_desc = input(\"Enter job description: \")\n",
        "\n",
        "    resume_text = extract_text(resume_file)\n",
        "\n",
        "    if resume_text:\n",
        "        score = compatibility(resume_text, job_desc)\n",
        "        print(\"Compatibility Score: \" + str(score) + \"%\")\n",
        "    else:\n",
        "        print(\"Failed to process resume. Please check file\")"
      ]
    },
    {
      "cell_type": "code",
      "source": [
        "!pip install textract"
      ],
      "metadata": {
        "colab": {
          "base_uri": "https://localhost:8080/",
          "height": 1000
        },
        "id": "ZwAcr-SRSs26",
        "outputId": "e1ef74ae-9d99-4832-fd5d-fb1dcef8ece6"
      },
      "execution_count": null,
      "outputs": [
        {
          "output_type": "stream",
          "name": "stdout",
          "text": [
            "\u001b[33mWARNING: Value for scheme.headers does not match. Please report this to <https://github.com/pypa/pip/issues/10151>\n",
            "distutils: /usr/local/include/python3.11/UNKNOWN\n",
            "sysconfig: /usr/include/python3.11/UNKNOWN\u001b[0m\n",
            "\u001b[33mWARNING: Additional context:\n",
            "user = False\n",
            "home = None\n",
            "root = None\n",
            "prefix = None\u001b[0m\n",
            "Collecting textract\n",
            "  Downloading textract-1.6.5-py3-none-any.whl (23 kB)\n",
            "Collecting SpeechRecognition~=3.8.1\n",
            "  Downloading SpeechRecognition-3.8.1-py2.py3-none-any.whl (32.8 MB)\n",
            "\u001b[K     |████████████████████████████████| 32.8 MB 79 kB/s \n",
            "\u001b[?25hCollecting argcomplete~=1.10.0\n",
            "  Downloading argcomplete-1.10.3-py2.py3-none-any.whl (36 kB)\n",
            "Collecting xlrd~=1.2.0\n",
            "  Downloading xlrd-1.2.0-py2.py3-none-any.whl (103 kB)\n",
            "\u001b[K     |████████████████████████████████| 103 kB 58.7 MB/s \n",
            "\u001b[?25hCollecting extract-msg<=0.29.*\n",
            "  Downloading extract_msg-0.28.7-py2.py3-none-any.whl (69 kB)\n",
            "\u001b[K     |████████████████████████████████| 69 kB 6.4 MB/s \n",
            "\u001b[?25hCollecting pdfminer.six==20191110\n",
            "  Downloading pdfminer.six-20191110-py2.py3-none-any.whl (5.6 MB)\n",
            "\u001b[K     |████████████████████████████████| 5.6 MB 48.6 MB/s \n",
            "\u001b[?25hCollecting python-pptx~=0.6.18\n",
            "  Downloading python_pptx-0.6.23-py3-none-any.whl (471 kB)\n",
            "\u001b[K     |████████████████████████████████| 471 kB 51.6 MB/s \n",
            "\u001b[?25hCollecting six~=1.12.0\n",
            "  Downloading six-1.12.0-py2.py3-none-any.whl (10 kB)\n",
            "Collecting docx2txt~=0.8\n",
            "  Downloading docx2txt-0.8.tar.gz (2.8 kB)\n",
            "Collecting beautifulsoup4~=4.8.0\n",
            "  Downloading beautifulsoup4-4.8.2-py3-none-any.whl (106 kB)\n",
            "\u001b[K     |████████████████████████████████| 106 kB 44.6 MB/s \n",
            "\u001b[?25hCollecting chardet==3.*\n",
            "  Downloading chardet-3.0.4-py2.py3-none-any.whl (133 kB)\n",
            "\u001b[K     |████████████████████████████████| 133 kB 53.0 MB/s \n",
            "\u001b[?25hCollecting pycryptodome\n",
            "  Downloading pycryptodome-3.21.0-cp36-abi3-manylinux_2_17_x86_64.manylinux2014_x86_64.whl (2.3 MB)\n",
            "\u001b[K     |████████████████████████████████| 2.3 MB 54.4 MB/s \n",
            "\u001b[?25hCollecting sortedcontainers\n",
            "  Downloading sortedcontainers-2.4.0-py2.py3-none-any.whl (29 kB)\n",
            "Requirement already satisfied: soupsieve>=1.2 in /usr/local/lib/python3.11/dist-packages (from beautifulsoup4~=4.8.0->textract) (2.6)\n",
            "Requirement already satisfied: tzlocal>=2.1 in /usr/local/lib/python3.11/dist-packages (from extract-msg<=0.29.*->textract) (5.2)\n",
            "Collecting compressed-rtf>=1.0.6\n",
            "  Downloading compressed_rtf-1.0.6.tar.gz (5.8 kB)\n",
            "Collecting imapclient==2.1.0\n",
            "  Downloading IMAPClient-2.1.0-py2.py3-none-any.whl (73 kB)\n",
            "\u001b[K     |████████████████████████████████| 73 kB 1.5 MB/s \n",
            "\u001b[?25hCollecting ebcdic>=1.1.1\n",
            "  Downloading ebcdic-1.1.1-py2.py3-none-any.whl (128 kB)\n",
            "\u001b[K     |████████████████████████████████| 128 kB 14.2 MB/s \n",
            "\u001b[?25hCollecting olefile>=0.46\n",
            "  Downloading olefile-0.47-py2.py3-none-any.whl (114 kB)\n",
            "\u001b[K     |████████████████████████████████| 114 kB 31.2 MB/s \n",
            "\u001b[?25hCollecting XlsxWriter>=0.5.7\n",
            "  Downloading XlsxWriter-3.2.0-py3-none-any.whl (159 kB)\n",
            "\u001b[K     |████████████████████████████████| 159 kB 62.7 MB/s \n",
            "\u001b[?25hRequirement already satisfied: Pillow>=3.3.2 in /usr/local/lib/python3.11/dist-packages (from python-pptx~=0.6.18->textract) (11.1.0)\n",
            "Requirement already satisfied: lxml>=3.1.0 in /usr/local/lib/python3.11/dist-packages (from python-pptx~=0.6.18->textract) (5.3.0)\n",
            "Building wheels for collected packages: docx2txt, compressed-rtf\n",
            "  Building wheel for docx2txt (setup.py) ... \u001b[?25l\u001b[?25hdone\n",
            "  Created wheel for docx2txt: filename=docx2txt-0.8-py3-none-any.whl size=3960 sha256=d5b8086cf68a23f53a3022781fa9a212e056f5dbf5a28e5492817b780c07532a\n",
            "  Stored in directory: /root/.cache/pip/wheels/0f/0e/7a/3094a4ceefe657bff7e12dd9592a9d5b6487ef4338ace0afa6\n",
            "  Building wheel for compressed-rtf (setup.py) ... \u001b[?25l\u001b[?25hdone\n",
            "  Created wheel for compressed-rtf: filename=compressed_rtf-1.0.6-py3-none-any.whl size=6184 sha256=2f2be20012905ddd5a9e1b491958aa2cdf533ec261db4dd28246020b3bfe9957\n",
            "  Stored in directory: /root/.cache/pip/wheels/25/43/67/e46f8b6d3d39fb567b05bf0d01125410665a3e019a468ace25\n",
            "Successfully built docx2txt compressed-rtf\n",
            "Installing collected packages: six, XlsxWriter, sortedcontainers, pycryptodome, olefile, imapclient, ebcdic, compressed-rtf, chardet, xlrd, SpeechRecognition, python-pptx, pdfminer.six, extract-msg, docx2txt, beautifulsoup4, argcomplete, textract\n",
            "  Attempting uninstall: six\n",
            "    Found existing installation: six 1.17.0\n",
            "    Uninstalling six-1.17.0:\n",
            "      Successfully uninstalled six-1.17.0\n",
            "\u001b[33m  WARNING: Value for scheme.headers does not match. Please report this to <https://github.com/pypa/pip/issues/10151>\n",
            "  distutils: /usr/local/include/python3.11/six\n",
            "  sysconfig: /usr/include/python3.11/six\u001b[0m\n",
            "\u001b[33m  WARNING: Value for scheme.headers does not match. Please report this to <https://github.com/pypa/pip/issues/10151>\n",
            "  distutils: /usr/local/include/python3.11/XlsxWriter\n",
            "  sysconfig: /usr/include/python3.11/XlsxWriter\u001b[0m\n",
            "\u001b[33m  WARNING: Value for scheme.headers does not match. Please report this to <https://github.com/pypa/pip/issues/10151>\n",
            "  distutils: /usr/local/include/python3.11/sortedcontainers\n",
            "  sysconfig: /usr/include/python3.11/sortedcontainers\u001b[0m\n",
            "\u001b[33m  WARNING: Value for scheme.headers does not match. Please report this to <https://github.com/pypa/pip/issues/10151>\n",
            "  distutils: /usr/local/include/python3.11/pycryptodome\n",
            "  sysconfig: /usr/include/python3.11/pycryptodome\u001b[0m\n",
            "\u001b[33m  WARNING: Value for scheme.headers does not match. Please report this to <https://github.com/pypa/pip/issues/10151>\n",
            "  distutils: /usr/local/include/python3.11/olefile\n",
            "  sysconfig: /usr/include/python3.11/olefile\u001b[0m\n",
            "\u001b[33m  WARNING: Value for scheme.headers does not match. Please report this to <https://github.com/pypa/pip/issues/10151>\n",
            "  distutils: /usr/local/include/python3.11/imapclient\n",
            "  sysconfig: /usr/include/python3.11/imapclient\u001b[0m\n",
            "\u001b[33m  WARNING: Value for scheme.headers does not match. Please report this to <https://github.com/pypa/pip/issues/10151>\n",
            "  distutils: /usr/local/include/python3.11/ebcdic\n",
            "  sysconfig: /usr/include/python3.11/ebcdic\u001b[0m\n",
            "\u001b[33m  WARNING: Value for scheme.headers does not match. Please report this to <https://github.com/pypa/pip/issues/10151>\n",
            "  distutils: /usr/local/include/python3.11/compressed-rtf\n",
            "  sysconfig: /usr/include/python3.11/compressed-rtf\u001b[0m\n",
            "  Attempting uninstall: chardet\n",
            "    Found existing installation: chardet 5.2.0\n",
            "\u001b[33m    WARNING: Value for bin_prefix does not match. Please report this to <https://github.com/pypa/pip/issues/10151>\n",
            "    distutils: /usr/bin\n",
            "    sysconfig: /usr/local/bin\u001b[0m\n",
            "\u001b[33m    WARNING: Additional context:\n",
            "    user = False\n",
            "    home = None\n",
            "    root = None\n",
            "    prefix = None\u001b[0m\n",
            "    Uninstalling chardet-5.2.0:\n",
            "      Successfully uninstalled chardet-5.2.0\n",
            "\u001b[33m  WARNING: Value for scheme.headers does not match. Please report this to <https://github.com/pypa/pip/issues/10151>\n",
            "  distutils: /usr/local/include/python3.11/chardet\n",
            "  sysconfig: /usr/include/python3.11/chardet\u001b[0m\n",
            "  Attempting uninstall: xlrd\n",
            "    Found existing installation: xlrd 2.0.1\n",
            "    Uninstalling xlrd-2.0.1:\n",
            "      Successfully uninstalled xlrd-2.0.1\n",
            "\u001b[33m  WARNING: Value for scheme.headers does not match. Please report this to <https://github.com/pypa/pip/issues/10151>\n",
            "  distutils: /usr/local/include/python3.11/xlrd\n",
            "  sysconfig: /usr/include/python3.11/xlrd\u001b[0m\n",
            "\u001b[33m  WARNING: Value for scheme.headers does not match. Please report this to <https://github.com/pypa/pip/issues/10151>\n",
            "  distutils: /usr/local/include/python3.11/SpeechRecognition\n",
            "  sysconfig: /usr/include/python3.11/SpeechRecognition\u001b[0m\n",
            "\u001b[33m  WARNING: Value for scheme.headers does not match. Please report this to <https://github.com/pypa/pip/issues/10151>\n",
            "  distutils: /usr/local/include/python3.11/python-pptx\n",
            "  sysconfig: /usr/include/python3.11/python-pptx\u001b[0m\n",
            "\u001b[33m  WARNING: Value for scheme.headers does not match. Please report this to <https://github.com/pypa/pip/issues/10151>\n",
            "  distutils: /usr/local/include/python3.11/pdfminer.six\n",
            "  sysconfig: /usr/include/python3.11/pdfminer.six\u001b[0m\n",
            "\u001b[33m  WARNING: Value for scheme.headers does not match. Please report this to <https://github.com/pypa/pip/issues/10151>\n",
            "  distutils: /usr/local/include/python3.11/extract-msg\n",
            "  sysconfig: /usr/include/python3.11/extract-msg\u001b[0m\n",
            "\u001b[33m  WARNING: Value for scheme.headers does not match. Please report this to <https://github.com/pypa/pip/issues/10151>\n",
            "  distutils: /usr/local/include/python3.11/docx2txt\n",
            "  sysconfig: /usr/include/python3.11/docx2txt\u001b[0m\n",
            "  Attempting uninstall: beautifulsoup4\n",
            "    Found existing installation: beautifulsoup4 4.12.3\n",
            "    Uninstalling beautifulsoup4-4.12.3:\n",
            "      Successfully uninstalled beautifulsoup4-4.12.3\n",
            "\u001b[33m  WARNING: Value for scheme.headers does not match. Please report this to <https://github.com/pypa/pip/issues/10151>\n",
            "  distutils: /usr/local/include/python3.11/beautifulsoup4\n",
            "  sysconfig: /usr/include/python3.11/beautifulsoup4\u001b[0m\n",
            "\u001b[33m  WARNING: Value for scheme.headers does not match. Please report this to <https://github.com/pypa/pip/issues/10151>\n",
            "  distutils: /usr/local/include/python3.11/argcomplete\n",
            "  sysconfig: /usr/include/python3.11/argcomplete\u001b[0m\n",
            "\u001b[33m  WARNING: Value for scheme.headers does not match. Please report this to <https://github.com/pypa/pip/issues/10151>\n",
            "  distutils: /usr/local/include/python3.11/textract\n",
            "  sysconfig: /usr/include/python3.11/textract\u001b[0m\n",
            "\u001b[31mERROR: pip's dependency resolver does not currently take into account all the packages that are installed. This behaviour is the source of the following dependency conflicts.\n",
            "yfinance 0.2.51 requires beautifulsoup4>=4.11.1, but you have beautifulsoup4 4.8.2 which is incompatible.\u001b[0m\n",
            "Successfully installed SpeechRecognition-3.8.1 XlsxWriter-3.2.0 argcomplete-1.10.3 beautifulsoup4-4.8.2 chardet-3.0.4 compressed-rtf-1.0.6 docx2txt-0.8 ebcdic-1.1.1 extract-msg-0.28.7 imapclient-2.1.0 olefile-0.47 pdfminer.six-20191110 pycryptodome-3.21.0 python-pptx-0.6.23 six-1.12.0 sortedcontainers-2.4.0 textract-1.6.5 xlrd-1.2.0\n",
            "\u001b[33mWARNING: Running pip as the 'root' user can result in broken permissions and conflicting behaviour with the system package manager. It is recommended to use a virtual environment instead: https://pip.pypa.io/warnings/venv\u001b[0m\n"
          ]
        },
        {
          "output_type": "display_data",
          "data": {
            "application/vnd.colab-display-data+json": {
              "pip_warning": {
                "packages": [
                  "six"
                ]
              },
              "id": "9dfa0ebcf7fc4a4d9a33d2e85e674def"
            }
          },
          "metadata": {}
        }
      ]
    },
    {
      "cell_type": "code",
      "source": [
        "!pip install pip==21.2"
      ],
      "metadata": {
        "colab": {
          "base_uri": "https://localhost:8080/"
        },
        "id": "FuBWprTtTBKI",
        "outputId": "bb4993ce-87d8-4c07-8a94-2ceda79d843b"
      },
      "execution_count": null,
      "outputs": [
        {
          "output_type": "stream",
          "name": "stdout",
          "text": [
            "Collecting pip==21.2\n",
            "  Downloading pip-21.2-py3-none-any.whl.metadata (4.2 kB)\n",
            "\u001b[33mWARNING: The candidate selected for download or install is a yanked version: 'pip' candidate (version 21.2 at https://files.pythonhosted.org/packages/03/0f/b125bfdd145c1d018d75ce87603e7e9ff2416e742c71b5ac7deba13ca699/pip-21.2-py3-none-any.whl (from https://pypi.org/simple/pip/) (requires-python:>=3.6))\n",
            "Reason for being yanked: See https://github.com/pypa/pip/issues/8711\u001b[0m\u001b[33m\n",
            "\u001b[0mDownloading pip-21.2-py3-none-any.whl (1.6 MB)\n",
            "\u001b[?25l   \u001b[90m━━━━━━━━━━━━━━━━━━━━━━━━━━━━━━━━━━━━━━━━\u001b[0m \u001b[32m0.0/1.6 MB\u001b[0m \u001b[31m?\u001b[0m eta \u001b[36m-:--:--\u001b[0m\r\u001b[2K   \u001b[91m━━━\u001b[0m\u001b[91m╸\u001b[0m\u001b[90m━━━━━━━━━━━━━━━━━━━━━━━━━━━━━━━━━━━━\u001b[0m \u001b[32m0.1/1.6 MB\u001b[0m \u001b[31m4.6 MB/s\u001b[0m eta \u001b[36m0:00:01\u001b[0m\r\u001b[2K   \u001b[91m━━━━━━━━━━━━━━━━━━━━━\u001b[0m\u001b[91m╸\u001b[0m\u001b[90m━━━━━━━━━━━━━━━━━━\u001b[0m \u001b[32m0.8/1.6 MB\u001b[0m \u001b[31m13.1 MB/s\u001b[0m eta \u001b[36m0:00:01\u001b[0m\r\u001b[2K   \u001b[90m━━━━━━━━━━━━━━━━━━━━━━━━━━━━━━━━━━━━━━━━\u001b[0m \u001b[32m1.6/1.6 MB\u001b[0m \u001b[31m14.8 MB/s\u001b[0m eta \u001b[36m0:00:00\u001b[0m\n",
            "\u001b[?25hInstalling collected packages: pip\n",
            "  Attempting uninstall: pip\n",
            "    Found existing installation: pip 24.1.2\n",
            "    Uninstalling pip-24.1.2:\n",
            "      Successfully uninstalled pip-24.1.2\n",
            "Successfully installed pip-21.2\n"
          ]
        }
      ]
    },
    {
      "cell_type": "code",
      "source": [
        "!pip install pytesseract"
      ],
      "metadata": {
        "colab": {
          "base_uri": "https://localhost:8080/"
        },
        "id": "ITGYQxBWTEFc",
        "outputId": "b8b385fb-7320-4b89-c531-9160579c49a4"
      },
      "execution_count": null,
      "outputs": [
        {
          "output_type": "stream",
          "name": "stdout",
          "text": [
            "Collecting pytesseract\n",
            "  Downloading pytesseract-0.3.13-py3-none-any.whl.metadata (11 kB)\n",
            "Requirement already satisfied: packaging>=21.3 in /usr/local/lib/python3.11/dist-packages (from pytesseract) (24.2)\n",
            "Requirement already satisfied: Pillow>=8.0.0 in /usr/local/lib/python3.11/dist-packages (from pytesseract) (11.1.0)\n",
            "Downloading pytesseract-0.3.13-py3-none-any.whl (14 kB)\n",
            "Installing collected packages: pytesseract\n",
            "Successfully installed pytesseract-0.3.13\n"
          ]
        }
      ]
    },
    {
      "cell_type": "code",
      "source": [],
      "metadata": {
        "id": "hlgY_PpfWHfd"
      },
      "execution_count": null,
      "outputs": []
    }
  ]
}