{
  "nbformat": 4,
  "nbformat_minor": 0,
  "metadata": {
    "colab": {
      "provenance": [],
      "gpuType": "T4"
    },
    "kernelspec": {
      "name": "python3",
      "display_name": "Python 3"
    },
    "language_info": {
      "name": "python"
    },
    "accelerator": "GPU"
  },
  "cells": [
    {
      "cell_type": "code",
      "execution_count": 2,
      "metadata": {
        "id": "l8GZjuTXSh4j"
      },
      "outputs": [],
      "source": [
        "import re\n",
        "import torch\n",
        "from transformers import BertTokenizer, BertModel\n",
        "from PIL import Image\n",
        "import textract\n",
        "import pytesseract\n",
        "\n",
        "def preprocess_text(text):\n",
        "    text = text.lower()\n",
        "    text = re.sub(r'\\s+', ' ', text)\n",
        "    text = re.sub(r'[^\\w\\s]', '', text)\n",
        "    return text\n",
        "\n",
        "def extract_text(file_path):\n",
        "    try:\n",
        "        if file_path.endswith(('.jpg', '.jpeg', '.png')):\n",
        "            text = pytesseract.image_to_string(Image.open(file_path))\n",
        "        else:\n",
        "            text = textract.process(file_path).decode('utf-8')\n",
        "        return text, None\n",
        "    except Exception as e:\n",
        "        return None, str(e)\n",
        "\n",
        "def get_bert_embedding(text, model, tokenizer):\n",
        "    tokens = tokenizer(text, return_tensors=\"pt\", truncation=True, padding=True, max_length=512)\n",
        "    with torch.no_grad():\n",
        "        outputs = model(**tokens)\n",
        "    return outputs.last_hidden_state.mean(dim=1)\n",
        "\n",
        "def compatibility(resume_text, job_desc):\n",
        "    tokenizer = BertTokenizer.from_pretrained(\"bert-base-uncased\")\n",
        "    model = BertModel.from_pretrained(\"bert-base-uncased\")\n",
        "\n",
        "    resume_embedding = get_bert_embedding(preprocess_text(resume_text), model, tokenizer)\n",
        "    job_desc_embedding = get_bert_embedding(preprocess_text(job_desc), model, tokenizer)\n",
        "\n",
        "    score = torch.nn.functional.cosine_similarity(resume_embedding, job_desc_embedding)\n",
        "    return round(score.item() * 100, 2)"
      ]
    },
    {
      "cell_type": "code",
      "source": [
        "!pip install textract"
      ],
      "metadata": {
        "colab": {
          "base_uri": "https://localhost:8080/"
        },
        "id": "ZwAcr-SRSs26",
        "outputId": "c14f553f-0e89-44da-8d40-7d63620e2808"
      },
      "execution_count": 1,
      "outputs": [
        {
          "output_type": "stream",
          "name": "stdout",
          "text": [
            "\u001b[33mWARNING: Value for scheme.headers does not match. Please report this to <https://github.com/pypa/pip/issues/10151>\n",
            "distutils: /usr/local/include/python3.11/UNKNOWN\n",
            "sysconfig: /usr/include/python3.11/UNKNOWN\u001b[0m\n",
            "\u001b[33mWARNING: Additional context:\n",
            "user = False\n",
            "home = None\n",
            "root = None\n",
            "prefix = None\u001b[0m\n",
            "Requirement already satisfied: textract in /usr/local/lib/python3.11/dist-packages (1.6.5)\n",
            "Requirement already satisfied: pdfminer.six==20191110 in /usr/local/lib/python3.11/dist-packages (from textract) (20191110)\n",
            "Requirement already satisfied: xlrd~=1.2.0 in /usr/local/lib/python3.11/dist-packages (from textract) (1.2.0)\n",
            "Requirement already satisfied: chardet==3.* in /usr/local/lib/python3.11/dist-packages (from textract) (3.0.4)\n",
            "Requirement already satisfied: extract-msg<=0.29.* in /usr/local/lib/python3.11/dist-packages (from textract) (0.28.7)\n",
            "Requirement already satisfied: SpeechRecognition~=3.8.1 in /usr/local/lib/python3.11/dist-packages (from textract) (3.8.1)\n",
            "Requirement already satisfied: python-pptx~=0.6.18 in /usr/local/lib/python3.11/dist-packages (from textract) (0.6.23)\n",
            "Requirement already satisfied: docx2txt~=0.8 in /usr/local/lib/python3.11/dist-packages (from textract) (0.9)\n",
            "Requirement already satisfied: argcomplete~=1.10.0 in /usr/local/lib/python3.11/dist-packages (from textract) (1.10.3)\n",
            "Requirement already satisfied: beautifulsoup4~=4.8.0 in /usr/local/lib/python3.11/dist-packages (from textract) (4.8.2)\n",
            "Requirement already satisfied: six~=1.12.0 in /usr/local/lib/python3.11/dist-packages (from textract) (1.12.0)\n",
            "Requirement already satisfied: sortedcontainers in /usr/local/lib/python3.11/dist-packages (from pdfminer.six==20191110->textract) (2.4.0)\n",
            "Requirement already satisfied: pycryptodome in /usr/local/lib/python3.11/dist-packages (from pdfminer.six==20191110->textract) (3.22.0)\n",
            "Requirement already satisfied: soupsieve>=1.2 in /usr/local/lib/python3.11/dist-packages (from beautifulsoup4~=4.8.0->textract) (2.6)\n",
            "Requirement already satisfied: olefile>=0.46 in /usr/local/lib/python3.11/dist-packages (from extract-msg<=0.29.*->textract) (0.47)\n",
            "Requirement already satisfied: ebcdic>=1.1.1 in /usr/local/lib/python3.11/dist-packages (from extract-msg<=0.29.*->textract) (1.1.1)\n",
            "Requirement already satisfied: imapclient==2.1.0 in /usr/local/lib/python3.11/dist-packages (from extract-msg<=0.29.*->textract) (2.1.0)\n",
            "Requirement already satisfied: compressed-rtf>=1.0.6 in /usr/local/lib/python3.11/dist-packages (from extract-msg<=0.29.*->textract) (1.0.7)\n",
            "Requirement already satisfied: tzlocal>=2.1 in /usr/local/lib/python3.11/dist-packages (from extract-msg<=0.29.*->textract) (5.3.1)\n",
            "Requirement already satisfied: XlsxWriter>=0.5.7 in /usr/local/lib/python3.11/dist-packages (from python-pptx~=0.6.18->textract) (3.2.2)\n",
            "Requirement already satisfied: Pillow>=3.3.2 in /usr/local/lib/python3.11/dist-packages (from python-pptx~=0.6.18->textract) (11.1.0)\n",
            "Requirement already satisfied: lxml>=3.1.0 in /usr/local/lib/python3.11/dist-packages (from python-pptx~=0.6.18->textract) (5.3.1)\n",
            "\u001b[33mWARNING: Running pip as the 'root' user can result in broken permissions and conflicting behaviour with the system package manager. It is recommended to use a virtual environment instead: https://pip.pypa.io/warnings/venv\u001b[0m\n"
          ]
        }
      ]
    },
    {
      "cell_type": "code",
      "source": [
        "!pip install pip==21.2"
      ],
      "metadata": {
        "colab": {
          "base_uri": "https://localhost:8080/"
        },
        "id": "FuBWprTtTBKI",
        "outputId": "e1a82891-4c36-4cdc-c43e-92ca7e4dfbc5"
      },
      "execution_count": 3,
      "outputs": [
        {
          "output_type": "stream",
          "name": "stdout",
          "text": [
            "Collecting pip==21.2\n",
            "  Downloading pip-21.2-py3-none-any.whl.metadata (4.2 kB)\n",
            "\u001b[33mWARNING: The candidate selected for download or install is a yanked version: 'pip' candidate (version 21.2 at https://files.pythonhosted.org/packages/03/0f/b125bfdd145c1d018d75ce87603e7e9ff2416e742c71b5ac7deba13ca699/pip-21.2-py3-none-any.whl (from https://pypi.org/simple/pip/) (requires-python:>=3.6))\n",
            "Reason for being yanked: See https://github.com/pypa/pip/issues/8711\u001b[0m\u001b[33m\n",
            "\u001b[0mDownloading pip-21.2-py3-none-any.whl (1.6 MB)\n",
            "\u001b[2K   \u001b[90m━━━━━━━━━━━━━━━━━━━━━━━━━━━━━━━━━━━━━━━━\u001b[0m \u001b[32m1.6/1.6 MB\u001b[0m \u001b[31m23.4 MB/s\u001b[0m eta \u001b[36m0:00:00\u001b[0m\n",
            "\u001b[?25hInstalling collected packages: pip\n",
            "  Attempting uninstall: pip\n",
            "    Found existing installation: pip 24.1.2\n",
            "    Uninstalling pip-24.1.2:\n",
            "      Successfully uninstalled pip-24.1.2\n",
            "Successfully installed pip-21.2\n"
          ]
        }
      ]
    },
    {
      "cell_type": "code",
      "source": [
        "!pip install pytesseract"
      ],
      "metadata": {
        "colab": {
          "base_uri": "https://localhost:8080/"
        },
        "id": "ITGYQxBWTEFc",
        "outputId": "32afdbea-6872-4c3e-ea25-f532b3f0fe98"
      },
      "execution_count": 4,
      "outputs": [
        {
          "output_type": "stream",
          "name": "stdout",
          "text": [
            "\u001b[33mWARNING: Value for scheme.headers does not match. Please report this to <https://github.com/pypa/pip/issues/10151>\n",
            "distutils: /usr/local/include/python3.11/UNKNOWN\n",
            "sysconfig: /usr/include/python3.11/UNKNOWN\u001b[0m\n",
            "\u001b[33mWARNING: Additional context:\n",
            "user = False\n",
            "home = None\n",
            "root = None\n",
            "prefix = None\u001b[0m\n",
            "Collecting pytesseract\n",
            "  Downloading pytesseract-0.3.13-py3-none-any.whl (14 kB)\n",
            "Requirement already satisfied: Pillow>=8.0.0 in /usr/local/lib/python3.11/dist-packages (from pytesseract) (11.1.0)\n",
            "Requirement already satisfied: packaging>=21.3 in /usr/local/lib/python3.11/dist-packages (from pytesseract) (24.2)\n",
            "Installing collected packages: pytesseract\n",
            "\u001b[33m  WARNING: Value for scheme.headers does not match. Please report this to <https://github.com/pypa/pip/issues/10151>\n",
            "  distutils: /usr/local/include/python3.11/pytesseract\n",
            "  sysconfig: /usr/include/python3.11/pytesseract\u001b[0m\n",
            "Successfully installed pytesseract-0.3.13\n",
            "\u001b[33mWARNING: Running pip as the 'root' user can result in broken permissions and conflicting behaviour with the system package manager. It is recommended to use a virtual environment instead: https://pip.pypa.io/warnings/venv\u001b[0m\n"
          ]
        }
      ]
    },
    {
      "cell_type": "code",
      "source": [],
      "metadata": {
        "id": "hlgY_PpfWHfd"
      },
      "execution_count": null,
      "outputs": []
    }
  ]
}